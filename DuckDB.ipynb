{
 "cells": [
  {
   "cell_type": "code",
   "execution_count": 7,
   "metadata": {},
   "outputs": [],
   "source": [
    "import duckdb as db\n",
    "import pandas as pd"
   ]
  },
  {
   "cell_type": "code",
   "execution_count": 8,
   "metadata": {},
   "outputs": [
    {
     "data": {
      "text/plain": [
       "┌───────────────────────────────────────────┬─────────┬─────────────────────────────────────────────────┬─────────────────┬─────────────────┬───────────────────┬───────────┬────────────┬─────────────────┬──────────┬─────────────┬────────────────┬─────────────────────┬───────────┬────────────┐\n",
       "│                  Nombre                   │  AppID  │                  Desarrollador                  │  PrecioInicial  │     Moneda      │ CalificacionUsers │  Genero   │ Plataforma │   FechaSalida   │ TamanoGB │ SoporteMods │ ComprasEnLaApp │       Resenas       │ Descargas │ UserOnline │\n",
       "│                  varchar                  │  int64  │                     varchar                     │     varchar     │     varchar     │      double       │  varchar  │  varchar   │     varchar     │  int64   │   varchar   │    varchar     │       varchar       │   int64   │   int64    │\n",
       "├───────────────────────────────────────────┼─────────┼─────────────────────────────────────────────────┼─────────────────┼─────────────────┼───────────────────┼───────────┼────────────┼─────────────────┼──────────┼─────────────┼────────────────┼─────────────────────┼───────────┼────────────┤\n",
       "│ (the) Gnorp Apologue                      │ 1473350 │ Myco                                            │ 6.99            │ USD             │               2.6 │ RPG       │ windows    │ 14 Dec, 2023    │       92 │ Si          │ No             │ Mixto               │     21805 │       3438 │\n",
       "│ 100 hidden birds                          │ 1473050 │ Anatoliy Loginovskikh, Аlexandr Telminov        │ 1.99            │ USD             │               4.7 │ Adventure │ mac        │ 2 Dec, 2020     │       18 │ No          │ Si             │ Mayormente Positivo │     61826 │       3125 │\n",
       "│ A Game of Gods: Infinium                  │ 2430020 │ Studio Zenn                                     │ To be announced │ To be announced │               4.6 │ Casual    │ windows    │ To be announced │       34 │ Si          │ Si             │ Mayormente Negativo │     99815 │       9357 │\n",
       "│ A Pigeon Detective Game: Twin Beaks       │ 1875230 │ Alex Taylor                                     │ To be announced │ To be announced │               2.4 │ Strategy  │ mac        │ To be announced │       65 │ No          │ Si             │ Mayormente Positivo │     33932 │       1548 │\n",
       "│ A.V.A Global                              │ 1473480 │ Valiant                                         │ 0.00            │ NULL            │               1.9 │ Indie     │ mac        │ 23 Aug, 2022    │       23 │ Si          │ Si             │ Mayormente Negativo │     37633 │       3603 │\n",
       "│ AI.Cybercraft                             │ 2429630 │ Khalil Al Gemayel, Desinovation Games           │ 3.99            │ USD             │               3.3 │ Casual    │ mac        │ 21 Mar, 2024    │       34 │ No          │ No             │ Mayormente Positivo │     22712 │       3845 │\n",
       "│ ANYU                                      │ 2431310 │ DigiPen Europe-Bilbao                           │ 0.00            │ NULL            │               2.2 │ RPG       │ windows    │ 16 Jun, 2023    │       36 │ Si          │ Si             │ Mixto               │     44723 │       4461 │\n",
       "│ AZURE DOMAIN™ Playtest                    │ 1473200 │ NULL                                            │ NULL            │ NULL            │               4.6 │ Strategy  │ linux      │ 18 Nov, 2020    │       23 │ Si          │ Si             │ Mayormente Positivo │     90698 │       9392 │\n",
       "│ Aircraft Sketch Shooter                   │ 1473170 │ Stusse Games                                    │ 2.99            │ USD             │               3.5 │ Adventure │ mac        │ 11 Jan, 2021    │       73 │ Si          │ Si             │ Mayormente Negativo │     54210 │       1828 │\n",
       "│ Angel Sex Pet                             │ 1474100 │ Cybele                                          │ 9.99            │ USD             │               2.2 │ Strategy  │ linux      │ 24 Dec, 2020    │       87 │ Si          │ No             │ Muy positivo        │     71442 │       7111 │\n",
       "│       ·                                   │    ·    │   ·                                             │  ·              │  ·              │                ·  │   ·       │  ·         │      ·          │        · │ ·           │ ·              │   ·                 │       ·   │         ·  │\n",
       "│       ·                                   │    ·    │   ·                                             │  ·              │  ·              │                ·  │   ·       │  ·         │      ·          │        · │ ·           │ ·              │   ·                 │       ·   │         ·  │\n",
       "│       ·                                   │    ·    │   ·                                             │  ·              │  ·              │                ·  │   ·       │  ·         │      ·          │        · │ ·           │ ·              │   ·                 │       ·   │         ·  │\n",
       "│ 怪盗探偵ブロンドレディ                    │ 1472380 │ 幻想テクノロギア                                │ 3.99            │ USD             │               3.1 │ Casual    │ mac        │ 8 Feb, 2023     │       27 │ No          │ No             │ Mixto               │     27241 │       8808 │\n",
       "│ 月夜赞歌 Melody in the moonlight          │ 1874780 │ Rolling Cat Studio                              │ 0.99            │ USD             │               2.2 │ Action    │ mac        │ 10 Feb, 2022    │       86 │ Si          │ Si             │ Muy Negativo        │     63460 │       5482 │\n",
       "│ 月夜赞歌 Melody in the moonlight Playtest │ 1875740 │ NULL                                            │ NULL            │ NULL            │               3.0 │ Strategy  │ linux      │ 11 Dec, 2023    │       90 │ No          │ Si             │ Muy Negativo        │     59337 │       8376 │\n",
       "│ 江湖客栈-The Jianghu Playtest             │ 2430450 │ NULL                                            │ NULL            │ NULL            │               2.7 │ Adventure │ linux      │ 5 Sep, 2023     │       63 │ No          │ No             │ Muy positivo        │     70647 │       5814 │\n",
       "│ 淤積的祈禱（Silted Prayer）               │ 2429380 │ Seventeen horns                                 │ 10.99           │ USD             │               2.9 │ Casual    │ windows    │ 4 Nov, 2023     │       11 │ Si          │ No             │ Muy Negativo        │     95371 │       3986 │\n",
       "│ 神经联结(Neural Nexus)                    │ 2429710 │ why so serious?                                 │ 0.99            │ USD             │               2.7 │ Casual    │ linux      │ 4 Nov, 2023     │       90 │ Si          │ Si             │ Mayormente Positivo │      7249 │       1449 │\n",
       "│ 秋恋物语 Autumn Romance                   │ 1874810 │ 异度沸腾动漫社-沸腾工作室                       │ 0.00            │ NULL            │               3.2 │ Action    │ linux      │ 4 Feb, 2022     │       81 │ Si          │ Si             │ Mayormente Negativo │     59565 │       8537 │\n",
       "│ 翔太の毕业季                              │ 2429970 │ Super brainless Nonsensical game しょうゆたろう │ Coming soon     │ Coming soon     │               3.4 │ Action    │ mac        │ Coming soon     │       90 │ Si          │ No             │ Mayormente Negativo │     33069 │       9111 │\n",
       "│ 英雄之旅                                  │ 2431490 │ Jinwind                                         │ 3.99            │ USD             │               2.8 │ RPG       │ linux      │ 20 Jun, 2023    │       65 │ Si          │ Si             │ Mayormente Positivo │     32063 │       2544 │\n",
       "│ 黎明为歌 - Melody before the Dawn         │ 1875140 │ Rolling Cat Studio                              │ 4.99            │ USD             │               4.2 │ RPG       │ mac        │ 11 Mar, 2022    │       30 │ No          │ No             │ Muy Negativo        │     63782 │       2450 │\n",
       "├───────────────────────────────────────────┴─────────┴─────────────────────────────────────────────────┴─────────────────┴─────────────────┴───────────────────┴───────────┴────────────┴─────────────────┴──────────┴─────────────┴────────────────┴─────────────────────┴───────────┴────────────┤\n",
       "│ 227 rows (20 shown)                                                                                                                                                                                                                                                                    15 columns │\n",
       "└───────────────────────────────────────────────────────────────────────────────────────────────────────────────────────────────────────────────────────────────────────────────────────────────────────────────────────────────────────────────────────────────────────────────────────────────────┘"
      ]
     },
     "execution_count": 8,
     "metadata": {},
     "output_type": "execute_result"
    }
   ],
   "source": [
    "db.read_csv('AnalisisJuegos.csv')"
   ]
  },
  {
   "cell_type": "code",
   "execution_count": 22,
   "metadata": {},
   "outputs": [
    {
     "data": {
      "text/plain": [
       "┌─────────┬────────────────────────────────┬───────────────────┬─────────────────────┐\n",
       "│  AppID  │             Nombre             │ CalificacionUsers │       Resenas       │\n",
       "│  int64  │            varchar             │      double       │       varchar       │\n",
       "├─────────┼────────────────────────────────┼───────────────────┼─────────────────────┤\n",
       "│ 1473050 │ 100 hidden birds               │               4.7 │ Mayormente Positivo │\n",
       "│ 2430020 │ A Game of Gods: Infinium       │               4.6 │ Mayormente Negativo │\n",
       "│ 1473200 │ AZURE DOMAIN™ Playtest         │               4.6 │ Mayormente Positivo │\n",
       "│ 1473290 │ Doors of Insanity Playtest     │               4.5 │ Mayormente Negativo │\n",
       "│ 2430190 │ FlippedDream                   │               4.9 │ Mayormente Negativo │\n",
       "│ 1473850 │ Golems TD                      │               4.9 │ Muy positivo        │\n",
       "│ 2428690 │ Neon Parkour 2                 │               4.5 │ Muy positivo        │\n",
       "│ 1472820 │ Pokoh                          │               4.5 │ Muy positivo        │\n",
       "│ 1875310 │ Pro Basketball Manager 2023    │               4.5 │ Mixto               │\n",
       "│ 1874840 │ RUNNER RTX                     │               4.7 │ Mixto               │\n",
       "│ 1472430 │ Sketchy Fables                 │               4.5 │ Mixto               │\n",
       "│ 2428780 │ The Last Stand at Camp Zombie  │               4.5 │ Mayormente Negativo │\n",
       "│ 2429360 │ The Sandwich Making Experience │               4.9 │ Mayormente Positivo │\n",
       "│ 2428200 │ Third Defender                 │               4.6 │ Muy Negativo        │\n",
       "│ 2429330 │ VR-太阳系                      │               4.7 │ Mixto               │\n",
       "├─────────┴────────────────────────────────┴───────────────────┴─────────────────────┤\n",
       "│ 15 rows                                                                  4 columns │\n",
       "└────────────────────────────────────────────────────────────────────────────────────┘"
      ]
     },
     "execution_count": 22,
     "metadata": {},
     "output_type": "execute_result"
    }
   ],
   "source": [
    "df = pd.read_csv('AnalisisJuegos.csv')\n",
    "db.sql('SELECT AppID,Nombre,CalificacionUsers,Resenas FROM df WHERE CalificacionUsers >= 4.5')"
   ]
  }
 ],
 "metadata": {
  "kernelspec": {
   "display_name": "Python 3",
   "language": "python",
   "name": "python3"
  },
  "language_info": {
   "codemirror_mode": {
    "name": "ipython",
    "version": 3
   },
   "file_extension": ".py",
   "mimetype": "text/x-python",
   "name": "python",
   "nbconvert_exporter": "python",
   "pygments_lexer": "ipython3",
   "version": "3.11.5"
  }
 },
 "nbformat": 4,
 "nbformat_minor": 2
}
